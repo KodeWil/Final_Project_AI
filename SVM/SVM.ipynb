{
  "nbformat": 4,
  "nbformat_minor": 0,
  "metadata": {
    "colab": {
      "name": "SVM.ipynb",
      "provenance": [],
      "collapsed_sections": []
    },
    "kernelspec": {
      "name": "python3",
      "display_name": "Python 3"
    }
  },
  "cells": [
    {
      "cell_type": "code",
      "metadata": {
        "id": "PXqRKw6cBJNR",
        "colab_type": "code",
        "outputId": "a2f85ebe-4027-4b8f-9d48-5b94276e6112",
        "colab": {
          "base_uri": "https://localhost:8080/",
          "height": 36
        }
      },
      "source": [
        "!git clone https://github.com/KodeWil/final_project_AI_csv_Data.git"
      ],
      "execution_count": 11,
      "outputs": [
        {
          "output_type": "stream",
          "text": [
            "fatal: destination path 'final_project_AI_csv_Data' already exists and is not an empty directory.\n"
          ],
          "name": "stdout"
        }
      ]
    },
    {
      "cell_type": "code",
      "metadata": {
        "id": "3tqCXs-QyJKM",
        "colab_type": "code",
        "colab": {}
      },
      "source": [
        "#Dependencies\n",
        "# %reset\n",
        "from sklearn.svm import SVC\n",
        "import pandas as pd \n",
        "import glob \n",
        "import numpy as np\n",
        "from sklearn.model_selection import train_test_split\n",
        "from sklearn.preprocessing import StandardScaler\n",
        "from sklearn.preprocessing import OneHotEncoder\n",
        "import copy\n",
        "from sklearn.metrics import accuracy_score\n",
        "import random as rn\n",
        "from sklearn import preprocessing"
      ],
      "execution_count": 0,
      "outputs": []
    },
    {
      "cell_type": "code",
      "metadata": {
        "id": "hkfC2JCgBiKi",
        "colab_type": "code",
        "colab": {}
      },
      "source": [
        "def addData(files: str) -> list:\n",
        "    allCsv = []\n",
        "    for file in files:\n",
        "      temp = open(file)\n",
        "      tempDf = pd.read_csv(file)\n",
        "      allCsv.append(tempDf)\n",
        "    return allCsv\n",
        "\n"
      ],
      "execution_count": 0,
      "outputs": []
    },
    {
      "cell_type": "code",
      "metadata": {
        "id": "y8vk9-1prLxY",
        "colab_type": "code",
        "colab": {}
      },
      "source": [
        "def printAll(df):\n",
        "  pd.set_option('display.max_rows', None)\n",
        "  print(df)"
      ],
      "execution_count": 0,
      "outputs": []
    },
    {
      "cell_type": "code",
      "metadata": {
        "id": "IPLkK4OkBnOH",
        "colab_type": "code",
        "outputId": "d6b28ce1-0695-42c2-f2d7-aa83f3d0b574",
        "colab": {
          "base_uri": "https://localhost:8080/",
          "height": 110
        }
      },
      "source": [
        "frames = []\n",
        "\n",
        "#Create a list ('frames') with four nested lists, one per sensor. \n",
        "#Each nested list have all the samples (DF) for that sensor.\n",
        "%cd /content/final_project_AI_csv_Data/phone/accel\n",
        "files = glob.glob('*.csv')\n",
        "files.sort()\n",
        "frames.append(addData(files))\n",
        "%cd /content/final_project_AI_csv_Data/phone/gyro\n",
        "files = glob.glob('*.csv')\n",
        "files.sort()\n",
        "frames.append(addData(files))\n",
        "%cd /content/final_project_AI_csv_Data/watch/accel\n",
        "files = glob.glob('*.csv')\n",
        "files.sort()\n",
        "frames.append(addData(files))\n",
        "%cd /content/final_project_AI_csv_Data/watch/gyro\n",
        "files = glob.glob('*.csv')\n",
        "files.sort()\n",
        "frames.append(addData(files))\n",
        "print(len(frames))\n",
        "# 0 in frames = /phone/accel\n",
        "# 1 in frames = /phone/gyro\n",
        "# 2 in frames = /watch/accel\n",
        "# 3 in frames = /watch/gyro"
      ],
      "execution_count": 15,
      "outputs": [
        {
          "output_type": "stream",
          "text": [
            "/content/final_project_AI_csv_Data/phone/accel\n",
            "/content/final_project_AI_csv_Data/phone/gyro\n",
            "/content/final_project_AI_csv_Data/watch/accel\n",
            "/content/final_project_AI_csv_Data/watch/gyro\n",
            "4\n"
          ],
          "name": "stdout"
        }
      ]
    },
    {
      "cell_type": "code",
      "metadata": {
        "id": "orlmj0Bh3vQq",
        "colab_type": "code",
        "colab": {}
      },
      "source": [
        "def cutSamples(frames1, frames2):\n",
        "  for i in range (0,50):\n",
        "    samples1 = frames1[i].shape[0]\n",
        "    samples2 = frames2[i].shape[0]\n",
        "    if(samples1 > samples2):\n",
        "      toDrop = list(range(samples2, samples1))\n",
        "      frames1[i].drop(frames1[i].index[[toDrop]], inplace = True)\n",
        "    elif(samples2 > samples1):\n",
        "      toDrop = list(range(samples1, samples2))\n",
        "      frames2[i].drop(frames2[i].index[[toDrop]], inplace = True) \n"
      ],
      "execution_count": 0,
      "outputs": []
    },
    {
      "cell_type": "code",
      "metadata": {
        "id": "XD94ePPyBedP",
        "colab_type": "code",
        "colab": {}
      },
      "source": [
        "def SVM(X, Xte, y, yte)->tuple:\n",
        "  kernelTypes = [\"rbf\", \"linear\" ,\"poly\", \"sigmoid\"]\n",
        "  gammaTypes = [\"auto\", \"scale\"]\n",
        "  class_weights = [True, False]\n",
        "  bestScore = 0\n",
        "  for kernelType in kernelTypes:\n",
        "    for gammaType in gammaTypes: \n",
        "      for weight in class_weights:\n",
        "          if(weight):\n",
        "            clf = SVC(kernel= kernelType, degree= 2, \n",
        "                      gamma= gammaType,class_weight= 'balanced')\n",
        "            parameters = {\"kernel\": kernelType,  \"gamma\": gammaType, \"weight\": \"balanced\"}\n",
        "          else:\n",
        "            clf = SVC(kernel= kernelType, degree= 3, \n",
        "                      gamma= gammaType)\n",
        "            parameters = {\"kernel\": kernelType,  \"gamma\": gammaType, \"weight\": \"None\"}\n",
        "          # print(parameters)\n",
        "          clf.fit(X,y)  \n",
        "          tempScore = clf.score(Xte, yte)\n",
        "          if(tempScore > bestScore):\n",
        "            bestScore = tempScore\n",
        "            svmModel = (parameters, bestScore)\n",
        "  return svmModel"
      ],
      "execution_count": 0,
      "outputs": []
    },
    {
      "cell_type": "code",
      "metadata": {
        "id": "1Kwv3mAXWItB",
        "colab_type": "code",
        "colab": {}
      },
      "source": [
        "def svmParticular(X, Xte, y, yte, kernelType, gammaType, weight):\n",
        "  if(weight):\n",
        "      clf = SVC(kernel= kernelType, degree= 2, \n",
        "                gamma= gammaType,class_weight= 'balanced')\n",
        "      parameters = {\"kernel\": kernelType,  \"gamma\": gammaType, \"weight\": \"balanced\"}\n",
        "  else:\n",
        "      clf = SVC(kernel= kernelType, degree= 3, \n",
        "                gamma= gammaType)\n",
        "      parameters = {\"kernel\": kernelType,  \"gamma\": gammaType, \"weight\": \"None\"}\n",
        "  \n",
        "  clf.fit(X,y)  \n",
        "  score = clf.score(Xte, yte)\n",
        "  print(score)"
      ],
      "execution_count": 0,
      "outputs": []
    },
    {
      "cell_type": "code",
      "metadata": {
        "id": "Ip3zLapcEi03",
        "colab_type": "code",
        "colab": {}
      },
      "source": [
        "#Split into train and test data, encode \"ACTIVITY\" column into a numerical column\n",
        "def dataTransformation(frame, columns: bool, kernelType, gammaType, weight, final):\n",
        "  ohe = OneHotEncoder()\n",
        "  sc = StandardScaler()\n",
        "  le = preprocessing.LabelEncoder()\n",
        "  if(columns):\n",
        "    y = frame[\"ACTIVITY\"]\n",
        "    X = frame.drop(columns = [\"ACTIVITY\", \"class\"])\n",
        "    X = X.values\n",
        "    X = sc.fit_transform(X)\n",
        "    y = y.values\n",
        "    le.fit(y)\n",
        "    y = le.transform(y)\n",
        "    X_train, X_test, y_train, y_test = train_test_split(X, y, test_size=0.2)\n",
        "    if(final):\n",
        "      info = SVM(X_train, X_test, y_train, y_test)\n",
        "      return(info)\n",
        "    else:\n",
        "      svmParticular(X_train, X_test, y_train, y_test, kernelType, gammaType, weight)\n",
        "\n",
        "  else:\n",
        "    y = frame[0]\n",
        "    y = y.values\n",
        "    le.fit(y)\n",
        "    y = le.transform(y)\n",
        "    X = frame.drop(columns = [0,91,93,182])\n",
        "    X = X.values\n",
        "    X = sc.fit_transform(X)\n",
        "    X_train, X_test, y_train, y_test = train_test_split(X, y, test_size=0.2)\n",
        "    info = svmParticular(X_train, X_test, y_train, y_test, kernelType, gammaType, weight)\n",
        "    return(info)\n",
        "\n",
        "\n",
        "\n",
        "\n",
        "\n"
      ],
      "execution_count": 0,
      "outputs": []
    },
    {
      "cell_type": "code",
      "metadata": {
        "id": "uP0Z_SJEBvmf",
        "colab_type": "code",
        "colab": {
          "base_uri": "https://localhost:8080/",
          "height": 1000
        },
        "outputId": "a29a2704-eeac-48f0-da2b-a57fb55b707b"
      },
      "source": [
        "#Apply the models to some individuals samples \n",
        "scores = []\n",
        "names = [\"Phone Accel\", \"Phone Gyro\" , \"Watch Accel\", \"Watch Gyro\"]\n",
        "numSamples = 10\n",
        "sensorScore = []\n",
        "print(\"For a single sample\")\n",
        "for i, frame in enumerate(frames):\n",
        "  print(\"-------------------------------------------\")\n",
        "  print(names[i])\n",
        "  print(\"\")\n",
        "  avg = 0\n",
        "  for i in range(0,numSamples):\n",
        "    tempVal = rn.randint(0,49)\n",
        "    sensorScore.append(dataTransformation(frame[tempVal], True,\"\",\"\",\"\",True))\n",
        "    avg += sensorScore[i][1]\n",
        "  avg = round(avg/numSamples, 3)\n",
        "  best = max(sensorScore, key = lambda x:x[1])\n",
        "  print(\"Parameters for best model: \" + str(best[0]) + \" Average score:\" + str(avg))\n",
        "  print(\"\")\n",
        "  sensorScore.clear()\n",
        "print('---------------------------------------------------------------------------------------------------------------------------------------')\n",
        "print(\"\")\n",
        "print(\"\")\n",
        "\n",
        "\n",
        "# Concatenate all phone Dataframes in a single One\n",
        "sensors = []\n",
        "phoneAccel = pd.concat(frames[0])\n",
        "sensors.append(phoneAccel)\n",
        "phoneGyro = pd.concat(frames[1])\n",
        "sensors.append(phoneGyro)\n",
        "watchAccel = pd.concat(frames[2])\n",
        "sensors.append(watchAccel)\n",
        "watchGyro = pd.concat(frames[3])\n",
        "sensors.append(watchGyro)\n",
        "\n",
        "#Scores for single sensors\n",
        "\n",
        "\n",
        "print(\"\")\n",
        "print(\"Phone Accelerometer sensor accuracy\")\n",
        "print(\"Score: \")\n",
        "dataTransformation(phoneAccel, True,\"rbf\", \"scale\", False,False)\n",
        "print(\"\")\n",
        "\n",
        "print(\"\")\n",
        "print(\"Watch Accelerometer sensor accuracy\")\n",
        "print(\"Score: \")\n",
        "dataTransformation(watchAccel, True,\"rbf\", \"auto\", True, False)\n",
        "print(\"\")\n",
        "\n",
        "print(\"\")\n",
        "print(\"Phone Gyroscope sensor accuracy\")\n",
        "print(\"Score: \" )\n",
        "dataTransformation(phoneGyro, True,\"rbf\", \"scale\", False,False)\n",
        "print(\"\")\n",
        "\n",
        "print(\"\")\n",
        "print(\"Watch Gyroscope sensor accuracy\")\n",
        "print(\"Score: \")\n",
        "dataTransformation(watchGyro, True,\"rbf\", \"scale\", True,False)\n",
        "print(\"\")\n",
        "\n",
        "\n",
        "\n",
        "#Cut samples to match with the number of samples in the other sensor (accel and gyro)\n",
        "cutSamples(frames[0], frames[1]) #Phone sensors\n",
        "cutSamples(frames[2], frames[3]) #Watch sensors\n",
        "\n",
        "#Concat all individual samples for a single sensor in one data frame. \n",
        "phoneAccel = pd.concat(frames[0], ignore_index=True)\n",
        "phoneGyro = pd.concat(frames[1], ignore_index=True)\n",
        "watchAccel = pd.concat(frames[2], ignore_index=True)\n",
        "watchGyro = pd.concat(frames[3], ignore_index=True)\n",
        "\n",
        "#Create a new data frame with both sensors for both devices.\n",
        "phone = pd.concat([phoneAccel, phoneGyro], ignore_index=True, axis = 1)\n",
        "phoneIndex = phone[phone[0] != phone[93]].index\n",
        "phone.drop(phoneIndex, inplace=True)\n",
        "watch = pd.concat([watchAccel, watchGyro], ignore_index=True, axis = 1)\n",
        "watchIndex = watch[watch[0] != watch[93]].index\n",
        "watch.drop(watchIndex, inplace=True)\n",
        "\n",
        "#Score for merged devices sensors\n",
        "print(\"\")\n",
        "print(\"Phone merged sensors accuracy\")\n",
        "print(\"Score: \")\n",
        "dataTransformation(phone, False,\"rbf\", \"scale\", True, False)\n",
        "print(\"\")\n",
        "\n",
        "print(\"\")\n",
        "print(\"Watch merged sensors accuracy\")\n",
        "print(\"Score: \")\n",
        "dataTransformation(watch, False, \"rbf\", \"scale\", False, False)\n",
        "print(\"\")\n",
        "\n"
      ],
      "execution_count": 20,
      "outputs": [
        {
          "output_type": "stream",
          "text": [
            "For a single sample\n",
            "-------------------------------------------\n",
            "Phone Accel\n",
            "\n",
            "Parameters for best model: {'kernel': 'rbf', 'gamma': 'auto', 'weight': 'balanced'} Average score:0.887\n",
            "\n",
            "-------------------------------------------\n",
            "Phone Gyro\n",
            "\n",
            "Parameters for best model: {'kernel': 'rbf', 'gamma': 'auto', 'weight': 'balanced'} Average score:0.756\n",
            "\n",
            "-------------------------------------------\n",
            "Watch Accel\n",
            "\n",
            "Parameters for best model: {'kernel': 'linear', 'gamma': 'auto', 'weight': 'balanced'} Average score:0.942\n",
            "\n",
            "-------------------------------------------\n",
            "Watch Gyro\n",
            "\n",
            "Parameters for best model: {'kernel': 'rbf', 'gamma': 'auto', 'weight': 'balanced'} Average score:0.851\n",
            "\n",
            "---------------------------------------------------------------------------------------------------------------------------------------\n",
            "\n",
            "\n",
            "\n",
            "Phone Accelerometer sensor accuracy\n",
            "Score: \n",
            "0.6838569880823402\n",
            "\n",
            "\n",
            "Watch Accelerometer sensor accuracy\n",
            "Score: \n",
            "0.8114191600329399\n",
            "\n",
            "\n",
            "Phone Gyroscope sensor accuracy\n",
            "Score: \n",
            "0.4197280879375181\n",
            "\n",
            "\n",
            "Watch Gyroscope sensor accuracy\n",
            "Score: \n",
            "0.6513456304807983\n",
            "\n",
            "\n",
            "Phone merged sensors accuracy\n",
            "Score: \n"
          ],
          "name": "stdout"
        },
        {
          "output_type": "stream",
          "text": [
            "/usr/local/lib/python3.6/dist-packages/pandas/core/indexes/base.py:3941: FutureWarning: Using a non-tuple sequence for multidimensional indexing is deprecated; use `arr[tuple(seq)]` instead of `arr[seq]`. In the future this will be interpreted as an array index, `arr[np.array(seq)]`, which will result either in an error or a different result.\n",
            "  result = getitem(key)\n"
          ],
          "name": "stderr"
        },
        {
          "output_type": "stream",
          "text": [
            "0.744265495363592\n",
            "\n",
            "\n",
            "Watch merged sensors accuracy\n",
            "Score: \n",
            "0.8552500828088772\n",
            "\n"
          ],
          "name": "stdout"
        }
      ]
    }
  ]
}